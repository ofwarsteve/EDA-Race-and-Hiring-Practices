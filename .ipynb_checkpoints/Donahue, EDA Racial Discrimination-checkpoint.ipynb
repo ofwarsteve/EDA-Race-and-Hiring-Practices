{
 "cells": [
  {
   "cell_type": "markdown",
   "metadata": {},
   "source": [
    "# Examining Racial Discrimination in the US Job Market\n",
    "\n",
    "### Background\n",
    "Racial discrimination continues to be pervasive in cultures throughout the world. Researchers examined the level of racial discrimination in the United States labor market by randomly assigning identical résumés to black-sounding or white-sounding names and observing the impact on requests for interviews from employers.\n",
    "\n",
    "### Data\n",
    "In the dataset provided, each row represents a resume. The 'race' column has two values, 'b' and 'w', indicating black-sounding and white-sounding. The column 'call' has two values, 1 and 0, indicating whether the resume received a call from employers or not.\n",
    "\n",
    "Note that the 'b' and 'w' values in race are assigned randomly to the resumes when presented to the employer."
   ]
  },
  {
   "cell_type": "markdown",
   "metadata": {},
   "source": [
    "### Exercises\n",
    "You will perform a statistical analysis to establish whether race has a significant impact on the rate of callbacks for resumes.\n",
    "\n",
    "Answer the following questions **in this notebook below and submit to your Github account**. \n",
    "\n",
    "   1. What test is appropriate for this problem? Does CLT apply?\n",
    "   2. What are the null and alternate hypotheses?\n",
    "   3. Compute margin of error, confidence interval, and p-value. Try using both the bootstrapping and the frequentist statistical approaches.\n",
    "   4. Write a story describing the statistical significance in the context or the original problem.\n",
    "   5. Does your analysis mean that race/name is the most important factor in callback success? Why or why not? If not, how would you amend your analysis?\n",
    "\n",
    "You can include written notes in notebook cells using Markdown: \n",
    "   - In the control panel at the top, choose Cell > Cell Type > Markdown\n",
    "   - Markdown syntax: http://nestacms.com/docs/creating-content/markdown-cheat-sheet\n",
    "\n",
    "#### Resources\n",
    "+ Experiment information and data source: http://www.povertyactionlab.org/evaluation/discrimination-job-market-united-states\n",
    "+ Scipy statistical methods: http://docs.scipy.org/doc/scipy/reference/stats.html \n",
    "+ Markdown syntax: http://nestacms.com/docs/creating-content/markdown-cheat-sheet\n",
    "+ Formulas for the Bernoulli distribution: https://en.wikipedia.org/wiki/Bernoulli_distribution"
   ]
  },
  {
   "cell_type": "code",
   "execution_count": 1,
   "metadata": {},
   "outputs": [],
   "source": [
    "import pandas as pd\n",
    "import numpy as np\n",
    "from scipy import stats\n",
    "import matplotlib.pyplot as plt"
   ]
  },
  {
   "cell_type": "code",
   "execution_count": 2,
   "metadata": {},
   "outputs": [],
   "source": [
    "data = pd.io.stata.read_stata('data/us_job_market_discrimination.dta')"
   ]
  },
  {
   "cell_type": "markdown",
   "metadata": {
    "collapsed": true
   },
   "source": [
    "<div class=\"span5 alert alert-success\">\n",
    "<p> \n",
    "1)    The Central Limit Theorem applies to this data, since the observations were randomized, the trials were independent, and the sample size was sufficiently large (more than 30) while also being less than 10% of the population.  Because the CLT applies, we expect the distribution of sample means to be normally distributed.\n",
    "    \n",
    "    \n",
    "2)    The Null hypothesis in this case is that the probability a resume with a white sounding name getting a callback is less than or equal to the probability of a resume with a black sounding name getting a callback.  The alternate hypothesis is that resumes with white sounding names are more likely to get a callback than resumes with black sounding names.\n",
    "\n",
    "</p>\n",
    "</div>"
   ]
  },
  {
   "cell_type": "code",
   "execution_count": 6,
   "metadata": {},
   "outputs": [
    {
     "name": "stdout",
     "output_type": "stream",
     "text": [
      "Taking a Frequentist Approach, the sample probability and variance of getting a call back:\n",
      "With a white sounding name, p =  0.0965  and variance =  0.0872\n",
      "With a black sounding name, p =  0.0645  and variance =  0.0603\n"
     ]
    }
   ],
   "source": [
    "# Let's first isolate the data that we'll be studying and comparing\n",
    "\n",
    "trimmed = data.loc[:,['race', 'call']]\n",
    "just_w = trimmed[trimmed['race'] == 'w'].call.tolist()\n",
    "just_b =  trimmed[trimmed['race'] == 'b'].call.tolist()\n",
    "\n",
    "just_w_p = np.sum(just_w)/len(just_w)\n",
    "just_b_p = np.sum(just_b)/len(just_b)\n",
    "\n",
    "just_w_var = just_w_p*(1 - just_w_p)\n",
    "just_b_var = just_b_p*(1 - just_b_p)\n",
    "\n",
    "print('Taking a Frequentist Approach, the sample probability and variance of getting a call back:')\n",
    "print('With a white sounding name, p = ', round(just_w_p, 4), ' and variance = ', round(just_w_var, 4))\n",
    "print('With a black sounding name, p = ', round(just_b_p, 4), ' and variance = ', round(just_b_var, 4))\n"
   ]
  },
  {
   "cell_type": "code",
   "execution_count": 109,
   "metadata": {},
   "outputs": [
    {
     "name": "stdout",
     "output_type": "stream",
     "text": [
      "Confidence interval for getting a call back with a white sounding name:  (0.08478, 0.10824)\n",
      "Confidence interval for getting a call back with a black sounding name:  (0.05472, 0.07423)\n",
      "\n",
      "The confidence intervals for each suggest a clear disparity.\n"
     ]
    }
   ],
   "source": [
    "# Where a confidence interval is concerned, it may not be ideal, since the p values in each case are so close to 0.\n",
    "# Nonetheless, in the frequentist approach, we can create a 95% confidence interval for each population\n",
    "\n",
    "conf_w = (round(just_w_p - 1.96 * np.sqrt(just_w_var/len(just_w)),5), round(just_w_p + 1.96 * np.sqrt(just_w_var/len(just_w)),5))\n",
    "conf_b = (round(just_b_p - 1.96 * np.sqrt(just_b_var/len(just_b)),5), round(just_b_p + 1.96 * np.sqrt(just_b_var/len(just_b)),5))\n",
    "\n",
    "print('Confidence interval for getting a call back with a white sounding name: ', conf_w)\n",
    "print('Confidence interval for getting a call back with a black sounding name: ', conf_b)\n",
    "print('')\n",
    "print('The confidence intervals for each suggest a clear disparity.')"
   ]
  },
  {
   "cell_type": "code",
   "execution_count": 111,
   "metadata": {},
   "outputs": [
    {
     "name": "stdout",
     "output_type": "stream",
     "text": [
      "percent of permutated white callbacks over  0.09651  equals  0.0\n",
      "percent of permutated black callbacks under  0.06448  equals  0.0\n",
      "\n",
      "As suggested by the frequentist approach, the likelihood of getting same distribution of callbacks for a permuted version of the name set is extremely unlikely\n"
     ]
    }
   ],
   "source": [
    "# Let's examine these results against a permutation test using the same data.\n",
    "\n",
    "def permutation_sample(data1, data2):\n",
    "    \"\"\"Generate a permutation sample from two data sets.\"\"\"\n",
    "\n",
    "    # Concatenate the data sets: data\n",
    "    data = np.concatenate((data1, data2))\n",
    "\n",
    "    # Permute the concatenated array: permuted_data\n",
    "    permuted_data = np.random.permutation(data)\n",
    "\n",
    "    # Split the permuted array into two: perm_sample_1, perm_sample_2\n",
    "    perm_sample_1 = permuted_data[:len(data1)]\n",
    "    perm_sample_2 = permuted_data[len(data1) :]\n",
    "\n",
    "    return perm_sample_1, perm_sample_2\n",
    "\n",
    "def draw_perm_reps(data_1, data_2, size=1):\n",
    "    \"\"\"Generate multiple permutation replicates.\"\"\"\n",
    "\n",
    "    # Initialize array of replicates: perm_replicates\n",
    "    perm_replicates_1 = np.empty(size)\n",
    "    perm_replicates_2 = np.empty(size)\n",
    "\n",
    "    for i in range(size):\n",
    "        # Generate permutation sample\n",
    "        perm_sample_1, perm_sample_2 = permutation_sample(data_1, data_2)\n",
    "\n",
    "        # Compute the test statistic\n",
    "        perm_replicates_1[i] = np.sum(perm_sample_1)/len(perm_sample_1)\n",
    "        perm_replicates_2[i] = np.sum(perm_sample_2)/len(perm_sample_2)\n",
    "\n",
    "    return perm_replicates_1, perm_replicates_2\n",
    "\n",
    "pr_1, pr_2 = draw_perm_reps(just_w, just_b, 10000)\n",
    "\n",
    "print('percent of permutated white callbacks over ', round(just_w_p, 5), ' equals ', np.sum(pr_1 > just_w_p)/len(pr_1))\n",
    "print('percent of permutated black callbacks under ', round(just_b_p, 5),' equals ', np.sum(pr_1 < just_b_p)/len(pr_1))\n",
    "print('')\n",
    "print('As suggested by the frequentist approach, the likelihood of getting same distribution of callbacks for a permuted version of the name set is extremely unlikely')\n"
   ]
  },
  {
   "cell_type": "markdown",
   "metadata": {},
   "source": [
    "<div class=\"span5 alert alert-success\">\n",
    "<p> The analysis strongly suggests that resumes with white sounding names are more likely to receive callbacks than resumes with black sounding names.  In this particular resampling of 1000 permuted distributions, virtually none of them had the same disparity as what was observed in the real world sample.  Thus, there is a statistically significant different in callback results based on the sound of the applicant's name.\n",
    "\n",
    "\n",
    "Whether or not the applicant's name is the most important factor remains to be seen.  The original data set contained 64 other factors for consideration.  It might be that another factor creates even starker differences, or that the sound of names might be correlated with other factors that do a good job of predicting callback values.  It is worth investigating what other commonalities may exist among the population with black sounding names which might also present predictive callback factors, and compare them with their effects on white sounding names.\n",
    "\n",
    "\n",
    "Whether or not the categorization is the most important factor may be assessed using a multidimensional gradient, or multiple regression study.</p>\n",
    "</div>"
   ]
  },
  {
   "cell_type": "code",
   "execution_count": null,
   "metadata": {},
   "outputs": [],
   "source": []
  }
 ],
 "metadata": {
  "kernelspec": {
   "display_name": "Python 3",
   "language": "python",
   "name": "python3"
  },
  "language_info": {
   "codemirror_mode": {
    "name": "ipython",
    "version": 3
   },
   "file_extension": ".py",
   "mimetype": "text/x-python",
   "name": "python",
   "nbconvert_exporter": "python",
   "pygments_lexer": "ipython3",
   "version": "3.6.5"
  }
 },
 "nbformat": 4,
 "nbformat_minor": 1
}
